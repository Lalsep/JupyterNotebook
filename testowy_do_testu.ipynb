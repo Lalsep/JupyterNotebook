{
 "cells": [
  {
   "cell_type": "code",
   "execution_count": 1,
   "metadata": {},
   "outputs": [
    {
     "name": "stdout",
     "output_type": "stream",
     "text": [
      "0 . dzień dobry\n",
      "1 . dzień dobry\n",
      "2 . dzień dobry\n",
      "3 . dzień dobry\n",
      "4 . dzień dobry\n"
     ]
    }
   ],
   "source": [
    "#pytanie 1\n",
    "for i in range(5):\n",
    "    print(i, \". dzień dobry\")"
   ]
  },
  {
   "cell_type": "code",
   "execution_count": 2,
   "metadata": {},
   "outputs": [
    {
     "name": "stdout",
     "output_type": "stream",
     "text": [
      "suma =  6\n"
     ]
    }
   ],
   "source": [
    "#pytanie 2\n",
    "j = 1\n",
    "suma = 0\n",
    "while j<10:\n",
    "    suma += j\n",
    "    if j%3 == 0:\n",
    "        break\n",
    "    j += 1\n",
    "print(\"suma = \", suma)"
   ]
  },
  {
   "cell_type": "code",
   "execution_count": 5,
   "metadata": {},
   "outputs": [
    {
     "name": "stdout",
     "output_type": "stream",
     "text": [
      "-1, 0, -2, -5, "
     ]
    }
   ],
   "source": [
    "# pytanie 3\n",
    "lt = [2, 3, 5, -1, 0, 1, -2, -5, 10]\n",
    "for i in range(len(lt)):\n",
    "    if lt[i] < 1:\n",
    "        print(lt[i], end=\", \")\n"
   ]
  },
  {
   "cell_type": "code",
   "execution_count": 16,
   "metadata": {},
   "outputs": [
    {
     "name": "stdout",
     "output_type": "stream",
     "text": [
      "Para, która ma więcej lat jedzie nad morze. Para, która ma mniej lat jedzie w góry\n",
      "Ania i Jacek jadą w góry\n"
     ]
    }
   ],
   "source": [
    "#pytanie 4\n",
    "d = {\"Ania\": 18, \"Jacek\":22, \"Gosia\": 24, \"Andrzej\":25}\n",
    "M1 = d[\"Ania\"] + d[\"Jacek\"]\n",
    "M2 = d[\"Gosia\"] + d[\"Andrzej\"]\n",
    "print(\"Para, która ma więcej lat jedzie nad morze\", end=\". \")\n",
    "print(\"Para, która ma mniej lat jedzie w góry\")\n",
    "if M1 < M2:\n",
    "    print (\"Ania i Jacek jadą w góry\")\n",
    "else:\n",
    "    if M1 == M2:\n",
    "        print(\"zagrajmy w losy gdzie jedziemy\")\n",
    "    print(\"Gosia i Andrzej jadą w góry\")"
   ]
  },
  {
   "cell_type": "code",
   "execution_count": 1,
   "metadata": {},
   "outputs": [
    {
     "name": "stdout",
     "output_type": "stream",
     "text": [
      "kolejna pętla\n",
      "kolejna pętla\n"
     ]
    }
   ],
   "source": [
    "j = 1\n",
    "while j < 7:\n",
    "    print('kolejna pętla')\n",
    "    j += 1\n",
    "    if j == 3:\n",
    "        break        "
   ]
  },
  {
   "cell_type": "code",
   "execution_count": null,
   "metadata": {},
   "outputs": [],
   "source": []
  }
 ],
 "metadata": {
  "kernelspec": {
   "display_name": "Python 3",
   "language": "python",
   "name": "python3"
  },
  "language_info": {
   "codemirror_mode": {
    "name": "ipython",
    "version": 3
   },
   "file_extension": ".py",
   "mimetype": "text/x-python",
   "name": "python",
   "nbconvert_exporter": "python",
   "pygments_lexer": "ipython3",
   "version": "3.6.4"
  }
 },
 "nbformat": 4,
 "nbformat_minor": 2
}
