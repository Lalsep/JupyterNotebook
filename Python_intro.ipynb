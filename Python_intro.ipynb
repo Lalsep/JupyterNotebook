{
 "cells": [
  {
   "cell_type": "code",
   "execution_count": 1,
   "metadata": {},
   "outputs": [
    {
     "name": "stdout",
     "output_type": "stream",
     "text": [
      "4\n"
     ]
    }
   ],
   "source": [
    "x = 2*2\n",
    "print(x)"
   ]
  },
  {
   "cell_type": "code",
   "execution_count": 3,
   "metadata": {},
   "outputs": [
    {
     "name": "stdout",
     "output_type": "stream",
     "text": [
      "wartość obliczonej zmiennej x= 4\n"
     ]
    }
   ],
   "source": [
    "print(\"wartość obliczonej zmiennej x=\",x)"
   ]
  },
  {
   "cell_type": "code",
   "execution_count": 11,
   "metadata": {},
   "outputs": [
    {
     "name": "stdout",
     "output_type": "stream",
     "text": [
      "Podaj wartość a:  5\n",
      "Podaj wartość b:  9\n",
      "Wartość a =  5\n",
      "Wartość b =  9.0\n"
     ]
    }
   ],
   "source": [
    "a = int(input(\"Podaj wartość a:  \"))\n",
    "b = float(input(\"Podaj wartość b:  \"))\n",
    "print(\"Wartość a = \",a)\n",
    "print(\"Wartość b = \",b)"
   ]
  },
  {
   "cell_type": "code",
   "execution_count": 12,
   "metadata": {},
   "outputs": [
    {
     "name": "stdout",
     "output_type": "stream",
     "text": [
      "wartość a =  5\n",
      "to jest poza warunkiem\n",
      "nowa wartość a =  6\n"
     ]
    }
   ],
   "source": [
    "if a==5:\n",
    "    print('wartość a = ',a)\n",
    "    a+=1\n",
    "else:\n",
    "    print('Wartość a nie jest równa 5')\n",
    "print('to jest poza warunkiem')\n",
    "print('nowa wartość a = ',a)"
   ]
  },
  {
   "cell_type": "code",
   "execution_count": 15,
   "metadata": {},
   "outputs": [
    {
     "name": "stdout",
     "output_type": "stream",
     "text": [
      "0  1  2  3  4      koniec\n"
     ]
    }
   ],
   "source": [
    "for i in range(0,5):\n",
    "    print(i,end=\"  \")\n",
    "print('    koniec')"
   ]
  },
  {
   "cell_type": "code",
   "execution_count": 24,
   "metadata": {},
   "outputs": [
    {
     "name": "stdout",
     "output_type": "stream",
     "text": [
      "Podaj wartość n :15\n",
      "Liczymy silnie   15 !\n",
      "silnia  15 ! =  1307674368000\n"
     ]
    }
   ],
   "source": [
    "#n! = 1*2*3....*n\n",
    "silnia = 1\n",
    "n = int(input(\"Podaj wartość n :\"))\n",
    "print('Liczymy silnie  ',n,'!')\n",
    "for i in range(1, n+1):\n",
    "    silnia =silnia*i\n",
    "print('silnia ',n,'! = ',silnia)\n"
   ]
  },
  {
   "cell_type": "code",
   "execution_count": null,
   "metadata": {
    "collapsed": true
   },
   "outputs": [],
   "source": []
  }
 ],
 "metadata": {
  "kernelspec": {
   "display_name": "Python 3",
   "language": "python",
   "name": "python3"
  },
  "language_info": {
   "codemirror_mode": {
    "name": "ipython",
    "version": 3
   },
   "file_extension": ".py",
   "mimetype": "text/x-python",
   "name": "python",
   "nbconvert_exporter": "python",
   "pygments_lexer": "ipython3",
   "version": "3.6.3"
  }
 },
 "nbformat": 4,
 "nbformat_minor": 2
}
