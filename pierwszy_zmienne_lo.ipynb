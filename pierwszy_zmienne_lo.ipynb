{
 "cells": [
  {
   "cell_type": "code",
   "execution_count": 2,
   "metadata": {},
   "outputs": [
    {
     "name": "stdout",
     "output_type": "stream",
     "text": [
      "2\n",
      "10\n",
      "10\n",
      "to jest tekst\n",
      "Nazywam się  Jaś\n",
      "10.2\n"
     ]
    }
   ],
   "source": [
    "a = 2\n",
    "b = 10\n",
    "c = b\n",
    "#wyprowadzanie danych na terminal\n",
    "print(a)\n",
    "print(b)\n",
    "print(c)#to jest komentarz\n",
    "print(\"to jest tekst\")\n",
    "d='Jaś'\n",
    "print(\"Nazywam się \", d)\n",
    "f = a/b+c\n",
    "print (f)"
   ]
  },
  {
   "cell_type": "code",
   "execution_count": 3,
   "metadata": {},
   "outputs": [
    {
     "name": "stdout",
     "output_type": "stream",
     "text": [
      "jestem w drugiej komórce\n",
      "a =  2\n",
      "b =  10\n",
      "c =  10\n",
      "jak się nazywasz? \n",
      "Nazywam się  Jaś\n"
     ]
    }
   ],
   "source": [
    "print (\"jestem w drugiej komórce\")\n",
    "print(\"a = \", a)\n",
    "print(\"b = \", b)\n",
    "print(\"c = \", c)\n",
    "print (\"jak się nazywasz? \")\n",
    "print(\"Nazywam się \", d)"
   ]
  },
  {
   "cell_type": "code",
   "execution_count": null,
   "metadata": {},
   "outputs": [],
   "source": []
  }
 ],
 "metadata": {
  "kernelspec": {
   "display_name": "Python 3",
   "language": "python",
   "name": "python3"
  },
  "language_info": {
   "codemirror_mode": {
    "name": "ipython",
    "version": 3
   },
   "file_extension": ".py",
   "mimetype": "text/x-python",
   "name": "python",
   "nbconvert_exporter": "python",
   "pygments_lexer": "ipython3",
   "version": "3.7.1"
  }
 },
 "nbformat": 4,
 "nbformat_minor": 2
}
