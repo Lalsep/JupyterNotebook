{
 "cells": [
  {
   "cell_type": "code",
   "execution_count": 1,
   "metadata": {},
   "outputs": [],
   "source": [
    "a = 1\n",
    "b = 2\n",
    "c = \"hello there\"\n",
    "print (a)\n",
    "print (b)\n",
    "print (c)"
   ]
  },
  {
   "cell_type": "code",
   "execution_count": 2,
   "metadata": {},
   "outputs": [],
   "source": [
    "number = 6\n",
    "while number > 0:\n",
    "    number -= 3\n",
    "    print(number,end=' ')"
   ]
  },
  {
   "cell_type": "code",
   "execution_count": 3,
   "metadata": {},
   "outputs": [
    {
     "name": "stdout",
     "output_type": "stream",
     "text": [
      "x is  4\n"
     ]
    }
   ],
   "source": [
    "x = 0\n",
    "while x<4:\n",
    "    x=x+1\n",
    "print ('x is ',x)"
   ]
  },
  {
   "cell_type": "code",
   "execution_count": 4,
   "metadata": {},
   "outputs": [
    {
     "name": "stdout",
     "output_type": "stream",
     "text": [
      "2\n"
     ]
    }
   ],
   "source": [
    "x = 1\n",
    "x *= x + 1\n",
    "print (x)"
   ]
  },
  {
   "cell_type": "code",
   "execution_count": 5,
   "metadata": {},
   "outputs": [
    {
     "name": "stdout",
     "output_type": "stream",
     "text": [
      "4\n"
     ]
    }
   ],
   "source": [
    "x = round(3.52)\n",
    "print(x)"
   ]
  },
  {
   "cell_type": "code",
   "execution_count": 6,
   "metadata": {},
   "outputs": [
    {
     "name": "stdout",
     "output_type": "stream",
     "text": [
      "Liczba x jest nieparzyta\n"
     ]
    }
   ],
   "source": [
    "x=7\n",
    "if x%2 == 0:\n",
    "    print(\"Liczba x jest parzysta\")\n",
    "else:\n",
    "    print('Liczba x jest nieparzyta')\n"
   ]
  },
  {
   "cell_type": "code",
   "execution_count": 7,
   "metadata": {},
   "outputs": [
    {
     "name": "stdout",
     "output_type": "stream",
     "text": [
      "Welcome to Python\n",
      "Welcome to Python\n",
      "Welcome to Python\n",
      "Welcome to Python\n",
      "Welcome to Python\n",
      "Welcome to Python\n",
      "Welcome to Python\n",
      "Welcome to Python\n",
      "Welcome to Python\n",
      "Welcome to Python\n"
     ]
    }
   ],
   "source": [
    "count = 0\n",
    "while count < 10:\n",
    "    print(\"Welcome to Python\")\n",
    "    count += 1"
   ]
  },
  {
   "cell_type": "code",
   "execution_count": 8,
   "metadata": {},
   "outputs": [
    {
     "name": "stdout",
     "output_type": "stream",
     "text": [
      "f= 2   g= 1\n",
      "f= 1   g= 2\n"
     ]
    }
   ],
   "source": [
    "f = 2\n",
    "g = 1\n",
    "print ('f=',f,'  g=',g)\n",
    "temp = f\n",
    "f = g\n",
    "g = temp\n",
    "print('f=',f,'  g=',g)"
   ]
  },
  {
   "cell_type": "code",
   "execution_count": 9,
   "metadata": {},
   "outputs": [
    {
     "name": "stdout",
     "output_type": "stream",
     "text": [
      "1\n",
      "1\n",
      "hello there\n"
     ]
    }
   ],
   "source": [
    "d = 2\n",
    "b = 1\n",
    "print (a)\n",
    "print (b)\n",
    "print (c)"
   ]
  },
  {
   "cell_type": "code",
   "execution_count": 10,
   "metadata": {},
   "outputs": [
    {
     "name": "stdout",
     "output_type": "stream",
     "text": [
      "1\n",
      "ahhhhhhhhh\n",
      "hello there\n"
     ]
    }
   ],
   "source": [
    "b = \"ahhhhhhhhh\"\n",
    "print (a)\n",
    "print (b)\n",
    "print (c)"
   ]
  },
  {
   "cell_type": "code",
   "execution_count": 11,
   "metadata": {},
   "outputs": [
    {
     "name": "stdout",
     "output_type": "stream",
     "text": [
      "Hello world!\n"
     ]
    }
   ],
   "source": [
    "print (\"Hello world!\")"
   ]
  },
  {
   "cell_type": "code",
   "execution_count": 12,
   "metadata": {},
   "outputs": [
    {
     "name": "stdout",
     "output_type": "stream",
     "text": [
      "podaj liczbę całkowitą a:  2\n",
      "podaj wartość rzeczywistą b:  5\n",
      "liczba a =   2\n",
      "liczba b =  5.0\n"
     ]
    }
   ],
   "source": [
    "a = int(input(\"podaj liczbę całkowitą a:  \"))\n",
    "#print(a)\n",
    "b = float(input(\"podaj wartość rzeczywistą b:  \"))\n",
    "#print (b)\n",
    "#Poniżej zastosujemy konkatenację\n",
    "print (\"liczba a =  \",a)\n",
    "print (\"liczba b = \",b)"
   ]
  },
  {
   "cell_type": "code",
   "execution_count": 13,
   "metadata": {},
   "outputs": [
    {
     "name": "stdout",
     "output_type": "stream",
     "text": [
      "1 2 3  koniec linii\n"
     ]
    }
   ],
   "source": [
    "a = 1\n",
    "b = 2\n",
    "c = 3\n",
    "print(a,end=' ')\n",
    "print (b,end=' ')\n",
    "print (c,end=' ')\n",
    "print (\" koniec linii\")\n"
   ]
  },
  {
   "cell_type": "code",
   "execution_count": 14,
   "metadata": {},
   "outputs": [
    {
     "name": "stdout",
     "output_type": "stream",
     "text": [
      "a=  10 b =   20\n",
      "a=  20 b =   10\n"
     ]
    }
   ],
   "source": [
    "#sposób zamiany zmiennych, czyli data swapping\n",
    "a = 10\n",
    "b = 20\n",
    "print (\"a= \",a, \"b =  \",b)\n",
    "#dokonujemy zamiany\n",
    "c = a\n",
    "a = b\n",
    "b = c\n",
    "print (\"a= \",a, \"b =  \",b)\n"
   ]
  },
  {
   "cell_type": "code",
   "execution_count": 15,
   "metadata": {},
   "outputs": [
    {
     "name": "stdout",
     "output_type": "stream",
     "text": [
      "dzień dobry klasa I LO\n",
      "3\n"
     ]
    }
   ],
   "source": [
    "print ('dzień dobry klasa I LO')\n",
    "print (3)"
   ]
  },
  {
   "cell_type": "code",
   "execution_count": 16,
   "metadata": {},
   "outputs": [
    {
     "name": "stdout",
     "output_type": "stream",
     "text": [
      "obliczanie sumy trzech zmiennych\n",
      "Podaj zmienną a= 2\n",
      "Podaj zmienną b= -10\n",
      "Podaj zmienną c= 8\n",
      "suma trzech zmiennych a,b,c wynosi 0\n"
     ]
    }
   ],
   "source": [
    "#Obliczanie sumy zmiennych\n",
    "print (\"obliczanie sumy trzech zmiennych\")\n",
    "a = int(input(\"Podaj zmienną a= \"))\n",
    "b = int(input(\"Podaj zmienną b= \"))\n",
    "c = int(input(\"Podaj zmienną c= \"))\n",
    "suma = a + b + c\n",
    "print (\"suma trzech zmiennych a,b,c wynosi\",suma)"
   ]
  },
  {
   "cell_type": "code",
   "execution_count": null,
   "metadata": {},
   "outputs": [],
   "source": [
    "if a < b:\n",
    "    print(a,\"<\",b)\n",
    "else:\n",
    "    if a == b:\n",
    "        print (\"a rowna sie b\")"
   ]
  },
  {
   "cell_type": "code",
   "execution_count": null,
   "metadata": {},
   "outputs": [
    {
     "name": "stdout",
     "output_type": "stream",
     "text": [
      "Podaj wartość x  :5\n",
      "Podaj wartość y  :3\n",
      "Podaj wartość z  :2\n",
      "x nie jest mniejsze od y\n",
      "++++++++++++++++++++++++\n",
      "to jest drukowane poza warunkiem\n",
      "z =  2\n"
     ]
    }
   ],
   "source": [
    "x = int(input(\"Podaj wartość x  :\"))\n",
    "y = int(input(\"Podaj wartość y  :\"))\n",
    "z = int(input(\"Podaj wartość z  :\"))\n",
    "if x < y:\n",
    "    print(\"x jest mniejsze od y\")\n",
    "else:\n",
    "    print(\"x nie jest mniejsze od y\")    \n",
    "#tu kończy się działanie warunku\n",
    "print(\"++++++++++++++++++++++++\")\n",
    "print(\"to jest drukowane poza warunkiem\")\n",
    "print(\"z = \",z)\n"
   ]
  },
  {
   "cell_type": "code",
   "execution_count": null,
   "metadata": {},
   "outputs": [
    {
     "name": "stdout",
     "output_type": "stream",
     "text": [
      "-8\n"
     ]
    }
   ],
   "source": [
    "print(a+b)"
   ]
  },
  {
   "cell_type": "code",
   "execution_count": null,
   "metadata": {},
   "outputs": [
    {
     "name": "stdout",
     "output_type": "stream",
     "text": [
      "Znajdujemy punkty przecięcia równania prostej y=ax+b z osią OY oraz OX\n",
      " ==================\n"
     ]
    }
   ],
   "source": [
    "#Rozwiązanie równania liniowego\n",
    "print(\"Znajdujemy punkty przecięcia równania prostej y=ax+b z osią OY oraz OX\")\n",
    "print (\" ==================\")\n",
    "a = float(input(\"Podaj współczynnik a : \"))\n",
    "b = float(input(\"Podaj współczynnik b : \"))\n",
    "x0 = -b/a\n",
    "print(\"przecięcie z osią OX prostej y=\",a,\"x+\",b,\"ma miejsce w punkcie Xo= \",x0)\n",
    "print(\"przecięcie z osią OY prostej y=\",a,\"x+\",b,\"ma miejsce w punkcie Xo=0 dla współrzędnej Yo= \",b)\n",
    "print (\"Koniec obliczeń\")"
   ]
  },
  {
   "cell_type": "code",
   "execution_count": null,
   "metadata": {},
   "outputs": [],
   "source": [
    "#Rozwiązanie równania kwadratowego\n",
    "print(\"Rozwiązujemy równanie kwadratowe y=ax^2+bx+c\")\n",
    "a = float(input(\"Podaj współczynnik a :\"))\n",
    "b = float(input(\"Podaj współczynnik b  :\"))\n",
    "c = float(input(\"Podaj współczynnik c :\"))\n",
    "print(\"Równanie kwadratowe postaci y=\",a,\"*x^2+\",b,\"*x +\",c)\n",
    "#obliczamy delte\n",
    "delta = b**2-4*a*c\n",
    "if delta < 0:\n",
    "    print(\"Równianie nie ma rozwiązań rzeczywistych, delta < 0\")\n",
    "else:\n",
    "    if delta == 0:\n",
    "        print(\"Równanie ma jedno rozwiązanie Xo= \",-b/2/a)\n",
    "    else:\n",
    "        print(\"Równanie ma dwa rozwiązania\")\n",
    "        x1 = (-b-delta**0.5)/(2*a)\n",
    "        x2 = (-b+delta**0.5)/(2*a)\n",
    "        print(\"================\")\n",
    "        print(\"Pierwiastki są następujące X1 = \",x1,\" , X2 = \",x2)\n",
    "print (\"============\")\n",
    "if a > 0:\n",
    "    print (\"Parabola skierowana jest do góry\")\n",
    "else:\n",
    "    if a < 0:\n",
    "        print(\"Parabola skierowana jest do dołu\")\n",
    "if a == 0:\n",
    "    print(\"a = 0, to nie jest równanie kwardratowe\")\n",
    "print(\"Koniec obliczeń\")\n"
   ]
  },
  {
   "cell_type": "code",
   "execution_count": null,
   "metadata": {
    "scrolled": true
   },
   "outputs": [],
   "source": [
    "print(4%3)"
   ]
  },
  {
   "cell_type": "code",
   "execution_count": null,
   "metadata": {},
   "outputs": [],
   "source": [
    "for x in range(0,3):\n",
    "    print (\"jestesmy w petli po raz \",x)"
   ]
  },
  {
   "cell_type": "code",
   "execution_count": null,
   "metadata": {},
   "outputs": [],
   "source": [
    "n = int(input(\"podaj liczbę n = \"))\n",
    "print (\"liczymy silnię liczby n = \",n)\n",
    "silnia = 1\n",
    "for i in range(1,n+1):\n",
    "    m = i+1\n",
    "    silnia = silnia*i\n",
    "    for j in range(1,m):\n",
    "        print(j,\"*\",end='')\n",
    "    print('')\n",
    "print (\"silnia wynosi \",silnia)"
   ]
  },
  {
   "cell_type": "code",
   "execution_count": null,
   "metadata": {},
   "outputs": [],
   "source": [
    "count = 0\n",
    "while (count < 9):\n",
    "    print (\"the count is: \", count)\n",
    "    count += 1"
   ]
  },
  {
   "cell_type": "code",
   "execution_count": null,
   "metadata": {},
   "outputs": [],
   "source": [
    "print (\"wypisz liczby parzyste podzielne przez 3 z zakresu 1-100\")\n",
    "for i in range(1,100):\n",
    "    if((i%2 == 0) & (i%3 == 0) & (i%7 == 0)):\n",
    "        print (i)\n",
    "print (\"goodbye\")"
   ]
  },
  {
   "cell_type": "code",
   "execution_count": null,
   "metadata": {},
   "outputs": [],
   "source": [
    "print (10%3)"
   ]
  },
  {
   "cell_type": "code",
   "execution_count": null,
   "metadata": {},
   "outputs": [],
   "source": [
    "x = 1\n",
    "x = x + 2.5\n",
    "print (x)"
   ]
  },
  {
   "cell_type": "code",
   "execution_count": null,
   "metadata": {},
   "outputs": [],
   "source": [
    "def function1():\n",
    "    print(\"to jest funkcja\")"
   ]
  },
  {
   "cell_type": "code",
   "execution_count": null,
   "metadata": {},
   "outputs": [],
   "source": [
    "a = function1()\n",
    "print (a)"
   ]
  },
  {
   "cell_type": "code",
   "execution_count": null,
   "metadata": {},
   "outputs": [],
   "source": [
    "lst = [\"pies\", \"kot\", \"żaba\"]\n",
    "print(lst)"
   ]
  },
  {
   "cell_type": "code",
   "execution_count": null,
   "metadata": {},
   "outputs": [],
   "source": [
    "lst.pop()\n",
    "print(lst)"
   ]
  },
  {
   "cell_type": "code",
   "execution_count": null,
   "metadata": {},
   "outputs": [],
   "source": [
    "lst = [1, 2, 3, 4]\n",
    "lst.append(5)\n",
    "print(lst)\n",
    "print('==========')\n",
    "print('lista jako element listy')\n",
    "lst.append([11, 33])\n",
    "print(lst)"
   ]
  },
  {
   "cell_type": "code",
   "execution_count": null,
   "metadata": {},
   "outputs": [],
   "source": [
    "lst.pop()\n",
    "print(lst)"
   ]
  },
  {
   "cell_type": "code",
   "execution_count": null,
   "metadata": {},
   "outputs": [],
   "source": [
    "lst = [1, 2, 3, 4]\n",
    "print(lst)\n",
    "lst.append(['jeden', 'dwa', 'trzy'])\n",
    "print(lst)"
   ]
  },
  {
   "cell_type": "code",
   "execution_count": null,
   "metadata": {},
   "outputs": [],
   "source": [
    "#listy\n",
    "lst = ['mama', 'tata', 'bobas', ]\n",
    "#print(lst[2])\n",
    "for e in lst:\n",
    "    print(e)"
   ]
  },
  {
   "cell_type": "code",
   "execution_count": null,
   "metadata": {},
   "outputs": [],
   "source": [
    "lst =  list(range(1,11))\n",
    "print (lst)"
   ]
  },
  {
   "cell_type": "code",
   "execution_count": null,
   "metadata": {},
   "outputs": [],
   "source": [
    "x = int(input('podaj x :'))\n",
    "if x%2 == 0:\n",
    "    print('Liczba x jest parzysta')\n",
    "else:\n",
    "    print('liczba x jest nieparzysta')"
   ]
  },
  {
   "cell_type": "code",
   "execution_count": null,
   "metadata": {},
   "outputs": [],
   "source": [
    "total = 0\n",
    "for i in range(1,11):\n",
    "    total +=i\n",
    "print(total)"
   ]
  },
  {
   "cell_type": "code",
   "execution_count": null,
   "metadata": {},
   "outputs": [],
   "source": [
    "lst = [1,2,3,4,5]\n",
    "#x = len(lst)\n",
    "#print (x)\n",
    "print(len(lst))\n",
    "#print.lengh(lst()) błędny zapis"
   ]
  },
  {
   "cell_type": "code",
   "execution_count": null,
   "metadata": {},
   "outputs": [],
   "source": [
    "for i in range(5):\n",
    "    print('Dzień dobry!')"
   ]
  },
  {
   "cell_type": "code",
   "execution_count": null,
   "metadata": {},
   "outputs": [],
   "source": [
    "lst = [8, 3, 2, 0, -2, -4, -5]\n",
    "total = 0\n",
    "for i in range(len(lst)):\n",
    "    if lst[i] < 0:\n",
    "        total += lst[i]\n",
    "print (total)"
   ]
  },
  {
   "cell_type": "code",
   "execution_count": null,
   "metadata": {},
   "outputs": [],
   "source": [
    "lstn = ['Jacek', 'Ania', 'Zosia']\n",
    "lsts = ['Kowalski', 'Nowak', 'Kwiatkowska']\n",
    "for i in range(len(lstn)):\n",
    "    print(lstn[i],' ',lsts[i])\n",
    "    \n"
   ]
  },
  {
   "cell_type": "code",
   "execution_count": null,
   "metadata": {},
   "outputs": [],
   "source": [
    "x=int(3.999)\n",
    "print(x)"
   ]
  },
  {
   "cell_type": "code",
   "execution_count": null,
   "metadata": {},
   "outputs": [],
   "source": [
    "lst = list(range(0,10))\n",
    "print(lst)"
   ]
  },
  {
   "cell_type": "code",
   "execution_count": null,
   "metadata": {},
   "outputs": [],
   "source": []
  }
 ],
 "metadata": {
  "kernelspec": {
   "display_name": "Python 3",
   "language": "python",
   "name": "python3"
  },
  "language_info": {
   "codemirror_mode": {
    "name": "ipython",
    "version": 3
   },
   "file_extension": ".py",
   "mimetype": "text/x-python",
   "name": "python",
   "nbconvert_exporter": "python",
   "pygments_lexer": "ipython3",
   "version": "3.7.1"
  }
 },
 "nbformat": 4,
 "nbformat_minor": 2
}
