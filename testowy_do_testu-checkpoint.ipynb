{
 "cells": [
  {
   "cell_type": "code",
   "execution_count": 1,
   "metadata": {},
   "outputs": [
    {
     "name": "stdout",
     "output_type": "stream",
     "text": [
      "0 . dzień dobry\n",
      "1 . dzień dobry\n",
      "2 . dzień dobry\n",
      "3 . dzień dobry\n",
      "4 . dzień dobry\n"
     ]
    }
   ],
   "source": [
    "#pytanie 1\n",
    "for i in range(5):\n",
    "    print(i, \". dzień dobry\")"
   ]
  },
  {
   "cell_type": "code",
   "execution_count": 2,
   "metadata": {},
   "outputs": [
    {
     "name": "stdout",
     "output_type": "stream",
     "text": [
      "suma =  6\n"
     ]
    }
   ],
   "source": [
    "#pytanie 2\n",
    "j = 1\n",
    "suma = 0\n",
    "while j<10:\n",
    "    suma += j\n",
    "    if j%3 == 0:\n",
    "        break\n",
    "    j += 1\n",
    "print(\"suma = \", suma)"
   ]
  },
  {
   "cell_type": "code",
   "execution_count": null,
   "metadata": {
    "collapsed": true
   },
   "outputs": [],
   "source": []
  }
 ],
 "metadata": {
  "kernelspec": {
   "display_name": "Python 3",
   "language": "python",
   "name": "python3"
  },
  "language_info": {
   "codemirror_mode": {
    "name": "ipython",
    "version": 3
   },
   "file_extension": ".py",
   "mimetype": "text/x-python",
   "name": "python",
   "nbconvert_exporter": "python",
   "pygments_lexer": "ipython3",
   "version": "3.6.3"
  }
 },
 "nbformat": 4,
 "nbformat_minor": 2
}
